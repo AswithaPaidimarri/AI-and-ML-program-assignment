{
  "nbformat": 4,
  "nbformat_minor": 0,
  "metadata": {
    "colab": {
      "name": "Day3 Assignment.ipynb",
      "provenance": [],
      "collapsed_sections": []
    },
    "kernelspec": {
      "name": "python3",
      "display_name": "Python 3"
    }
  },
  "cells": [
    {
      "cell_type": "markdown",
      "metadata": {
        "id": "M_3hmPwLwwvN",
        "colab_type": "text"
      },
      "source": [
        "# **AI and ML Program by letsUpgrade**\n",
        "# **DAY3 ASSIGNMENT**\n",
        "# **SUBMITTED BY**\n",
        "# **NAME:-PAIDIMARRI VENKATA SAI ASWITHA**"
      ]
    },
    {
      "cell_type": "markdown",
      "metadata": {
        "id": "cDjYtLJax1zM",
        "colab_type": "text"
      },
      "source": [
        "# **Question1**\n",
        "# Write a program to subtract two complex numbers in Python."
      ]
    },
    {
      "cell_type": "code",
      "metadata": {
        "id": "xG_rlbCGyC0L",
        "colab_type": "code",
        "colab": {
          "base_uri": "https://localhost:8080/",
          "height": 33
        },
        "outputId": "03363eea-bfa8-4a29-9f3c-6e0c6ccfc99e"
      },
      "source": [
        "a=2+3j\n",
        "b=3+2j\n",
        "print(a-b)"
      ],
      "execution_count": null,
      "outputs": [
        {
          "output_type": "stream",
          "text": [
            "(-1+1j)\n"
          ],
          "name": "stdout"
        }
      ]
    },
    {
      "cell_type": "markdown",
      "metadata": {
        "id": "hzjRO1ubyi3E",
        "colab_type": "text"
      },
      "source": [
        "# **Question2**\n",
        "# Write a program to find the fourth root of a number."
      ]
    },
    {
      "cell_type": "code",
      "metadata": {
        "id": "2sItFndtys5X",
        "colab_type": "code",
        "colab": {
          "base_uri": "https://localhost:8080/",
          "height": 33
        },
        "outputId": "0d6373d6-2e30-4886-f652-02e2021d6686"
      },
      "source": [
        "num=2\n",
        "res=num**4\n",
        "print(res)"
      ],
      "execution_count": null,
      "outputs": [
        {
          "output_type": "stream",
          "text": [
            "16\n"
          ],
          "name": "stdout"
        }
      ]
    },
    {
      "cell_type": "markdown",
      "metadata": {
        "id": "u1-7qKcv0gQs",
        "colab_type": "text"
      },
      "source": [
        "# **Question3**\n",
        "# Write a program to swap two numbers in Python with the help of a temporary variable."
      ]
    },
    {
      "cell_type": "code",
      "metadata": {
        "id": "vKIQoUdT0twM",
        "colab_type": "code",
        "colab": {
          "base_uri": "https://localhost:8080/",
          "height": 67
        },
        "outputId": "ec086367-52ab-419b-86fb-b6ad7301afe3"
      },
      "source": [
        "x=input()\n",
        "y=input()\n",
        "#swapping\n",
        "temp=x\n",
        "x=y\n",
        "y=temp\n",
        "print(\"x=\",x,\"y=\",y)"
      ],
      "execution_count": null,
      "outputs": [
        {
          "output_type": "stream",
          "text": [
            "3\n",
            "5\n",
            "x= 5 y= 3\n"
          ],
          "name": "stdout"
        }
      ]
    },
    {
      "cell_type": "markdown",
      "metadata": {
        "id": "AdlcApnV4EL6",
        "colab_type": "text"
      },
      "source": [
        "# **Question4**\n",
        "# Write a program to swap two numbers in Python without using a temporary variable."
      ]
    },
    {
      "cell_type": "code",
      "metadata": {
        "id": "fqVqjOit4PqG",
        "colab_type": "code",
        "colab": {
          "base_uri": "https://localhost:8080/",
          "height": 33
        },
        "outputId": "b4682fbd-7c3b-4d1a-9fe7-b240c02f4f58"
      },
      "source": [
        "x=5\n",
        "y=3\n",
        "#swapping with out using temporary variable\n",
        "x=x+y\n",
        "y=x-y\n",
        "x=x-y\n",
        "print(\"x=\",x,\"y=\",y)"
      ],
      "execution_count": null,
      "outputs": [
        {
          "output_type": "stream",
          "text": [
            "x= 3 y= 5\n"
          ],
          "name": "stdout"
        }
      ]
    },
    {
      "cell_type": "markdown",
      "metadata": {
        "id": "tdPdJJnM5u_J",
        "colab_type": "text"
      },
      "source": [
        "# **Question5**\n",
        "# Write a program to convert Fahrenheit to kelvin and celsius both."
      ]
    },
    {
      "cell_type": "code",
      "metadata": {
        "id": "T-_rvMeO6PHu",
        "colab_type": "code",
        "colab": {
          "base_uri": "https://localhost:8080/",
          "height": 67
        },
        "outputId": "9fe7ed8c-c95f-4cad-9c27-2bd783627208"
      },
      "source": [
        "f=float(input())\n",
        "Kelvin = 273.5 + ((f-32.0) * (5.0/9.0))\n",
        "Celsius=(f-32) * 5/9\n",
        "print(\"Kelvin=\",Kelvin)\n",
        "print(\"Celsius=\",Celsius)"
      ],
      "execution_count": null,
      "outputs": [
        {
          "output_type": "stream",
          "text": [
            "25\n",
            "Kelvin= 269.6111111111111\n",
            "Celsius= -3.888888888888889\n"
          ],
          "name": "stdout"
        }
      ]
    },
    {
      "cell_type": "markdown",
      "metadata": {
        "id": "p6cKgY0j9iKT",
        "colab_type": "text"
      },
      "source": [
        "# **Question6**\n",
        "# Write a program to demonstrate all the available data types in Python. Hint: Use type() function."
      ]
    },
    {
      "cell_type": "code",
      "metadata": {
        "id": "hZEu0VZP9tbF",
        "colab_type": "code",
        "colab": {
          "base_uri": "https://localhost:8080/",
          "height": 117
        },
        "outputId": "30625eea-67fd-4597-cc64-5befed275563"
      },
      "source": [
        "a=2\n",
        "b=3.0\n",
        "c=2.888888888888888\n",
        "d=10000000000000\n",
        "e=\"Letsupgrade\"\n",
        "f=\"c\"\n",
        "print(type(a))\n",
        "print(type(b))\n",
        "print(type(c))\n",
        "print(type(d))\n",
        "print(type(e))\n",
        "print(type(f))\n"
      ],
      "execution_count": null,
      "outputs": [
        {
          "output_type": "stream",
          "text": [
            "<class 'int'>\n",
            "<class 'float'>\n",
            "<class 'float'>\n",
            "<class 'int'>\n",
            "<class 'str'>\n",
            "<class 'str'>\n"
          ],
          "name": "stdout"
        }
      ]
    }
  ]
}